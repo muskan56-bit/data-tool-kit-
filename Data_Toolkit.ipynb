{
  "nbformat": 4,
  "nbformat_minor": 0,
  "metadata": {
    "colab": {
      "provenance": []
    },
    "kernelspec": {
      "name": "python3",
      "display_name": "Python 3"
    },
    "language_info": {
      "name": "python"
    }
  },
  "cells": [
    {
      "cell_type": "markdown",
      "source": [
        "# theory"
      ],
      "metadata": {
        "id": "cnF5r6CSFpMR"
      }
    },
    {
      "cell_type": "markdown",
      "source": [
        "q.no.1)What is NumPy, and why is it widely used in Python?"
      ],
      "metadata": {
        "id": "_Ngn0aluGU1C"
      }
    },
    {
      "cell_type": "markdown",
      "source": [
        " -> numphy is a fundamental Python library for numerical computing. It provides a powerful N-dimensional array object and a vast collection of high-level mathematical functions to operate on these arrays, making it the bedrock of the scientific Python ecosystem."
      ],
      "metadata": {
        "id": "7855KLavGnzq"
      }
    },
    {
      "cell_type": "markdown",
      "source": [
        "q.no.2)How does broadcasting work in NumPy?"
      ],
      "metadata": {
        "id": "b3Kufs-_8ZEn"
      }
    },
    {
      "cell_type": "markdown",
      "source": [
        " -> In NumPy, that allows for arithmetic operations between arrays of different shapes. It eliminates the need for explicit loops, making code more efficient, concise, and readable."
      ],
      "metadata": {
        "id": "Sk9fI_-dG02y"
      }
    },
    {
      "cell_type": "markdown",
      "source": [
        "q.no.3) What is a Pandas DataFrame ?"
      ],
      "metadata": {
        "id": "R8EqtvGR8dDX"
      }
    },
    {
      "cell_type": "markdown",
      "source": [
        " -> this is two-dimensional, size-mutable, tabular data structure with labeled axes (rows and columns). Think of it as a spreadsheet or a SQL table in a Python environment. It is the most commonly used and powerful data structure in the Pandas library"
      ],
      "metadata": {
        "id": "73uGElh1HRRE"
      }
    },
    {
      "cell_type": "markdown",
      "source": [
        "q.no.4) Explain the use of the groupby() method in Pandas?\n",
        "\n"
      ],
      "metadata": {
        "id": "ygG9IiB_8i9f"
      }
    },
    {
      "cell_type": "markdown",
      "source": [
        " -> this is  used to split a DataFrame into groups based on some criterion. It is a powerful and flexible tool for performing a series of operations in a single, efficient step, often referred to as the \"split-apply-combine\" strategy"
      ],
      "metadata": {
        "id": "Ffe4xyrhHfc5"
      }
    },
    {
      "cell_type": "markdown",
      "source": [
        "q.no.5) Why is Seaborn preferred for statistical visualizations?"
      ],
      "metadata": {
        "id": "c4JNHB198kWX"
      }
    },
    {
      "cell_type": "markdown",
      "source": [
        " -> this is  provides a high-level, dataset-oriented API that is specifically designed for creating complex statistical plots with minimal code. While it's built on top of Matplotlib, its key advantages make it the go-to choice for data scientists and analysts."
      ],
      "metadata": {
        "id": "dpCQXIX3FjFg"
      }
    },
    {
      "cell_type": "markdown",
      "source": [
        "q.no.6) What are the differences between NumPy arrays and Python lists?"
      ],
      "metadata": {
        "id": "cmFpKQ4r8tp3"
      }
    },
    {
      "cell_type": "markdown",
      "source": [
        "-> numpy arry are differ from python lists -\n",
        " numphy arry - this is Faster for numerical operations. Operations are vectorized, meaning they are performed on the entire array at once using highly optimized C code.\n",
        "\n",
        " pythn lists - this is Slower for numerical operations. Operations must be performed on each element individually, typically with a for loop, which has significant overhead.  "
      ],
      "metadata": {
        "id": "XO0kiBsCE17_"
      }
    },
    {
      "cell_type": "markdown",
      "source": [
        "q.no.7) What is a heatmap, and when should it be used?"
      ],
      "metadata": {
        "id": "BXF0KykE8wBo"
      }
    },
    {
      "cell_type": "markdown",
      "source": [
        " -> A heatmap is a graphical representation of data where values in a matrix are represented as colors. It's a powerful tool for visualizing large amounts of data at a glance, making it easy to identify patterns, trends, and correlations."
      ],
      "metadata": {
        "id": "_RevHFXUEcwP"
      }
    },
    {
      "cell_type": "markdown",
      "source": [
        "q.no.8) What does the term “vectorized operation” mean in NumPy?"
      ],
      "metadata": {
        "id": "Ay263A4s82bn"
      }
    },
    {
      "cell_type": "markdown",
      "source": [
        " -> vectorized operation applying a mathematical or logical operation to an entire array at once, without the need for an explicit Python for loop. This process is significantly faster and more efficient than traditional loops because the operations are executed by optimized, pre-compiled C code under the hood"
      ],
      "metadata": {
        "id": "d-b4ubBnEMzn"
      }
    },
    {
      "cell_type": "markdown",
      "source": [
        " ->  basically matplotilbare differ from  plitly -\n",
        "  matplotlib- It's primarily designed for creating static, publication-quality plots. This makes it ideal for academic papers, reports, and presentations where a high degree of customization and control is necessary.\n",
        "  plotly-Its primary output is an interactive HTML file or an embedded web visualization. This is perfect for dashboards, web applications, or data exploration in a Jupyter Notebook where users need to interact with the data."
      ],
      "metadata": {
        "id": "J4YjmZ8aC-24"
      }
    },
    {
      "cell_type": "markdown",
      "source": [
        "q.no.10)What is the significance of hierarchical indexing in Pandas?"
      ],
      "metadata": {
        "id": "3clYs7Ux8-dH"
      }
    },
    {
      "cell_type": "markdown",
      "source": [
        " ->Hierarchical indexing, also known as MultiIndex, is a powerful feature in the Pandas library that allows you to have multiple levels of indexing on a single axis. This lets you work with high-dimensional data in a two-dimensional format, effectively giving you a way to structure and organize complex datasets."
      ],
      "metadata": {
        "id": "KhoTraJJCGfA"
      }
    },
    {
      "cell_type": "markdown",
      "source": [
        "q.no.11) What is the role of Seaborn’s pairplot() function"
      ],
      "metadata": {
        "id": "-U0v2gKm9CuA"
      }
    },
    {
      "cell_type": "markdown",
      "source": [
        " -> Seaborn's pairplot() function creates a grid of plots visualizing pairwise relationships in a dataset. It's a powerful tool for exploratory data analysis (EDA) that helps you quickly understand the structure of your data, including correlations between variables and the distribution of each variable."
      ],
      "metadata": {
        "id": "RN3k2XvM9JX9"
      }
    },
    {
      "cell_type": "markdown",
      "source": [
        "q.no.12)What is the purpose of the describe() function in Pandas?"
      ],
      "metadata": {
        "id": "kgyJGHcl-QZX"
      }
    },
    {
      "cell_type": "markdown",
      "source": [
        "-> describe() function used for generating a summary of the descriptive statistics of a DataFrame or Series. Its purpose is to provide a quick and easy way to understand the central tendency, dispersion, and shape of your data's distribution.  "
      ],
      "metadata": {
        "id": "wqaQE-9lEml8"
      }
    },
    {
      "cell_type": "markdown",
      "source": [
        "q.no.13) Why is handling missing data important in Pandas?"
      ],
      "metadata": {
        "id": "xfS0UqbU-V8F"
      }
    },
    {
      "cell_type": "markdown",
      "source": [
        " -> handling missing is important for accuracy and reliability of your analysis. Missing values, represented as NaN (Not a Number) or None, can distort statistical calculations, lead to incorrect model predictions, and cause errors in your code."
      ],
      "metadata": {
        "id": "Si37iN6YEPdg"
      }
    },
    {
      "cell_type": "markdown",
      "source": [
        "q.no.14)  What are the benefits of using Plotly for data visualization?"
      ],
      "metadata": {
        "id": "IryA1yc3-YqM"
      }
    },
    {
      "cell_type": "markdown",
      "source": [
        " -> the  primary benefits  ability to go beyond static images and create engaging,  Dynamic Visualizations,Web-Friendly and Shareable,High-Level and Low-Level APIs,Advanced Chart Types and Aesthetics"
      ],
      "metadata": {
        "id": "SMHIunlNDNKI"
      }
    },
    {
      "cell_type": "markdown",
      "source": [
        "q.no.15) How does NumPy handle multidimensional arrays?"
      ],
      "metadata": {
        "id": "j-29qoLx-biM"
      }
    },
    {
      "cell_type": "markdown",
      "source": [
        " -> NumPy handles multidimensional arrays by storing all elements in a single, contiguous block of memory. This approach provides several performance benefits and is a fundamental design choice that distinguishes NumPy arrays from nested Python lists."
      ],
      "metadata": {
        "id": "PC9dxS4DDFsM"
      }
    },
    {
      "cell_type": "markdown",
      "source": [
        "q.no.16) What is the role of Bokeh in data visualization?"
      ],
      "metadata": {
        "id": "gkF443dr-eYe"
      }
    },
    {
      "cell_type": "markdown",
      "source": [
        " ->Bokeh's role in data visualization is to create interactive and web-friendly plots and dashboards. Unlike libraries like Matplotlib, which primarily generates static images, Bokeh is designed from the ground up to produce visualizations that can be easily embedded into web applications or Jupyter notebooks"
      ],
      "metadata": {
        "id": "71DMCDVzCtwV"
      }
    },
    {
      "cell_type": "markdown",
      "source": [
        "q.no.17) Explain the difference between apply() and map() in Pandas"
      ],
      "metadata": {
        "id": "kF13qVSX-hls"
      }
    },
    {
      "cell_type": "markdown",
      "source": [
        "-> map() - is used for element-wise mapping or substitution. It takes a dictionary, a Series, or a function as an argument and applies it to each element of the Series, replacing the old values with the new ones.\n",
        "\n",
        "  apply()-  It applies a function along an axis of a DataFrame or to each element of a Series. When used on a DataFrame, you can specify the axis (axis=0 for columns, axis=1 for rows), allowing the function to operate on an entire row or column at a time."
      ],
      "metadata": {
        "id": "9i-SLXwxCKOp"
      }
    },
    {
      "cell_type": "markdown",
      "source": [
        "q.no.18) What are some advanced features of NumPy?"
      ],
      "metadata": {
        "id": "KttPZUcc-lKs"
      }
    },
    {
      "cell_type": "markdown",
      "source": [
        " -> NumPy's advanced features go beyond basic array creation and manipulation,broadcasting,univarsal function , advance idexing and slicling, offering powerful tools for high-performance computing, data analysis, and scientific research. These features are designed to handle complex numerical operations efficiently.\n",
        "\n",
        "\n"
      ],
      "metadata": {
        "id": "5Ofd_qfaBYgx"
      }
    },
    {
      "cell_type": "markdown",
      "source": [
        "q.no.19) How does Pandas simplify time series analysis?\n"
      ],
      "metadata": {
        "id": "AkO8azfH-nw9"
      }
    },
    {
      "cell_type": "markdown",
      "source": [
        " -> Pandas simplifies time series analysis by providing a specialized data structure, the DatetimeIndex, and a rich set of functions that are optimized for handling and manipulating time-stamped data.or with the help of Resampling,Time-Based Slicing"
      ],
      "metadata": {
        "id": "iHpOD1a7BHDs"
      }
    },
    {
      "cell_type": "markdown",
      "source": [
        "q.no.20) A What is the role of a pivot table in Pandas?"
      ],
      "metadata": {
        "id": "H3a0Dn_2-rUM"
      }
    },
    {
      "cell_type": "markdown",
      "source": [
        " ->A pivot table in Pandas is a powerful tool for summarizing and aggregating data from a DataFrame. Its primary role is to reshape or reorganize data from a \"long\" format into a \"wide,\" spreadsheet-like format, making it easier to analyze and gain insights."
      ],
      "metadata": {
        "id": "cA4RMRaPA1Tc"
      }
    },
    {
      "cell_type": "markdown",
      "source": [
        "q.no.21) A Why is NumPy’s array slicing faster than Python’s list slicing?"
      ],
      "metadata": {
        "id": "tqONlcFQ-wsG"
      }
    },
    {
      "cell_type": "markdown",
      "source": [
        " -> NumPy's array slicing is faster than Python's list slicing is due to its fundamental design, Contiguous Memory Allocation ,Underlying C Implementation , No Type Checking like list,string,float\n"
      ],
      "metadata": {
        "id": "sS19oPc6ABRv"
      }
    },
    {
      "cell_type": "markdown",
      "source": [
        "q.no.22) A What are some common use cases for Seaborn?"
      ],
      "metadata": {
        "id": "pVM75Rbd-1DU"
      }
    },
    {
      "cell_type": "markdown",
      "source": [
        " ->Seaborn is a Python library for creating statistical graphics that is built on top of Matplotlib. It's often used for exploratory data analysis and to create visually appealing plots with less code"
      ],
      "metadata": {
        "id": "M7J6oY46-9eM"
      }
    },
    {
      "cell_type": "markdown",
      "source": [],
      "metadata": {
        "id": "CD-dul5XNZwH"
      }
    },
    {
      "cell_type": "markdown",
      "source": [
        "#  practical"
      ],
      "metadata": {
        "id": "CL4a2d5yNaff"
      }
    },
    {
      "cell_type": "markdown",
      "source": [
        "q.no.1) How do you create a 2D NumPy array and calculate the sum of each row"
      ],
      "metadata": {
        "id": "I1cOPTqgP-x6"
      }
    },
    {
      "cell_type": "code",
      "source": [
        "import numpy as np\n",
        "\n",
        "\n",
        "matrix = np.array([[1, 2, 3, 4],\n",
        "                   [5, 6, 7, 8],\n",
        "                   [9, 10, 11, 12]])\n",
        "\n",
        "print(\"Original 2D Array:\")\n",
        "print(matrix)\n",
        "print(\"-\" * 30)\n",
        "\n",
        "row_sums = np.sum(matrix, axis=1)\n",
        "\n",
        "print(\"Sum of each row:\")\n",
        "print(row_sums)"
      ],
      "metadata": {
        "id": "lJeAb9DYaaDi"
      },
      "execution_count": null,
      "outputs": []
    },
    {
      "cell_type": "markdown",
      "source": [
        "q.no.2) Write a Pandas script to find the mean of a specific column in a DataFrame"
      ],
      "metadata": {
        "id": "8d_IrOWGQDdI"
      }
    },
    {
      "cell_type": "code",
      "source": [
        "import pandas as pd\n",
        "\n",
        "\n",
        "data = {\n",
        "    'product': ['Apple', 'Banana', 'Cherry', 'Date', 'Elderberry'],\n",
        "    'price': [1.20, 0.50, 2.50, 3.10, 1.80],\n",
        "    'quantity_sold': [150, 300, 75, 120, 200]\n",
        "}\n",
        "df = pd.DataFrame(data)\n",
        "\n",
        "print(\"Original DataFrame:\")\n",
        "print(df)\n",
        "print(\"-\" * 30)\n",
        "\n",
        "average_price = df['price'].mean()\n",
        "\n",
        "print(f\"The mean of the 'price' column is: {average_price:.2f}\")"
      ],
      "metadata": {
        "id": "HE0BmTSCaP2a"
      },
      "execution_count": null,
      "outputs": []
    },
    {
      "cell_type": "markdown",
      "source": [
        "q.no.3) Create a scatter plot using Matplotlib"
      ],
      "metadata": {
        "id": "x0Vx-kkgQMSA"
      }
    },
    {
      "cell_type": "code",
      "source": [
        "import matplotlib.pyplot as plt\n",
        "import numpy as np\n",
        "x = np.random.rand(50) * 100\n",
        "y = x + np.random.randn(50) * 20\n",
        "\n",
        "plt.figure(figsize=(8, 6))\n",
        "plt.scatter(x, y, color='blue', alpha=0.6, edgecolors='k')\n",
        "\n",
        "plt.title('Sample Scatter Plot of Two Variables')\n",
        "plt.xlabel('X-axis Label')\n",
        "plt.ylabel('Y-axis Label')\n",
        "plt.grid(True)\n",
        "\n",
        "plt.show()"
      ],
      "metadata": {
        "id": "kI-rZMObZ8q1"
      },
      "execution_count": null,
      "outputs": []
    },
    {
      "cell_type": "markdown",
      "source": [
        "q.no.4)  How do you calculate the correlation matrix using Seaborn and visualize it with a heatmap"
      ],
      "metadata": {
        "id": "dTTgh7XCQOyv"
      }
    },
    {
      "cell_type": "code",
      "source": [
        "import pandas as pd\n",
        "import numpy as np\n",
        "import seaborn as sns\n",
        "import matplotlib.pyplot as plt\n",
        "\n",
        "data = {\n",
        "    'A': np.random.rand(100) * 10,\n",
        "    'B': np.random.rand(100) * 20,\n",
        "    'C': np.random.rand(100) * 5 + 5,\n",
        "    'D': np.random.rand(100) * 15 - 5\n",
        "}\n",
        "df = pd.DataFrame(data)\n",
        "\n",
        "df['E'] = df['A'] * 2 + np.random.randn(100)\n",
        "\n",
        "correlation_matrix = df.corr()\n",
        "\n",
        "print(\"Correlation Matrix:\")\n",
        "print(correlation_matrix)\n",
        "print(\"\\n\" + \"=\"*40 + \"\\n\")\n",
        "\n",
        "plt.figure(figsize=(8, 6))\n",
        "sns.heatmap(\n",
        "    correlation_matrix,\n",
        "    annot=True,\n",
        "    cmap='coolwarm',\n",
        "    fmt=\".2f\",\n",
        "    linewidths=.5\n",
        ")\n",
        "\n",
        "plt.title('Correlation Heatmap')\n",
        "plt.show()"
      ],
      "metadata": {
        "id": "JeChlF03ZjTJ"
      },
      "execution_count": null,
      "outputs": []
    },
    {
      "cell_type": "markdown",
      "source": [
        "q.no.5) Generate a bar plot using Plotly"
      ],
      "metadata": {
        "id": "Gt4kdm2GQSHf"
      }
    },
    {
      "cell_type": "code",
      "source": [
        "import pandas as pd\n",
        "import plotly.express as px\n",
        "\n",
        "\n",
        "data = {\n",
        "    'Category': ['A', 'B', 'C', 'D', 'E'],\n",
        "    'Value': [25, 40, 30, 55, 45]\n",
        "}\n",
        "df = pd.DataFrame(data)\n",
        "\n",
        "\n",
        "fig = px.bar(\n",
        "    df,\n",
        "    x='Category',\n",
        "    y='Value',\n",
        "    title='Bar Plot of Categories and Values',\n",
        "    labels={'Category': 'Product Category', 'Value': 'Total Sales'}\n",
        ")\n",
        "\n",
        "\n",
        "fig.show()"
      ],
      "metadata": {
        "id": "Egr5XrPkZPza"
      },
      "execution_count": null,
      "outputs": []
    },
    {
      "cell_type": "markdown",
      "source": [
        "q.no.6)  Create a DataFrame and add a new column based on an existing column"
      ],
      "metadata": {
        "id": "Y1Axkd5gQU5R"
      }
    },
    {
      "cell_type": "code",
      "source": [
        "import pandas as pd\n",
        "\n",
        "data = {\n",
        "    'product_id': [101, 102, 103, 104, 105],\n",
        "    'price': [10.50, 25.00, 5.75, 50.25, 12.00]\n",
        "}\n",
        "df = pd.DataFrame(data)\n",
        "\n",
        "print(\"Original DataFrame:\")\n",
        "print(df)\n",
        "print(\"-\" * 30)\n",
        "\n",
        "df['discounted_price'] = df['price'] * 0.9\n",
        "\n",
        "print(\"Updated DataFrame with new column:\")\n",
        "print(df)"
      ],
      "metadata": {
        "id": "56UsHMEUZA-h"
      },
      "execution_count": null,
      "outputs": []
    },
    {
      "cell_type": "markdown",
      "source": [
        "q.no.7) Write a program to perform element-wise multiplication of two NumPy arrays"
      ],
      "metadata": {
        "id": "LUSRXNgjQbQY"
      }
    },
    {
      "cell_type": "code",
      "source": [
        "import numpy as np\n",
        "array1 = np.array([1, 2, 3, 4, 5])\n",
        "array2 = np.array([10, 20, 30, 40, 50])\n",
        "\n",
        "print(\"Array 1:\", array1)\n",
        "print(\"Array 2:\", array2)\n",
        "print(\"-\" * 30)\n",
        "\n",
        "\n",
        "result_op = array1 * array2\n",
        "print(\"Result using the * operator (element-wise multiplication):\")\n",
        "print(result_op)\n",
        "print(\"-\" * 30)\n",
        "result_func = np.multiply(array1, array2)\n",
        "print(\"Result using np.multiply() function:\")\n",
        "print(result_func)\n",
        "\n",
        "print(\"\\nAre the results identical?\", np.array_equal(result_op, result_func))"
      ],
      "metadata": {
        "id": "KqxxOEDLYtrZ"
      },
      "execution_count": null,
      "outputs": []
    },
    {
      "cell_type": "markdown",
      "source": [
        "q.no.8)  Create a line plot with multiple lines using MatplotlibA\n"
      ],
      "metadata": {
        "id": "QQt1qIcJQzqh"
      }
    },
    {
      "cell_type": "code",
      "source": [
        "import matplotlib.pyplot as plt\n",
        "import numpy as np\n",
        "x = np.linspace(0, 10, 100)\n",
        "y1 = np.sin(x)\n",
        "y2 = np.cos(x)\n",
        "y3 = np.sin(x) * np.cos(x)\n",
        "plt.figure(figsize=(10, 6))\n",
        "plt.plot(x, y1, label='sin(x)', color='blue', linestyle='-')\n",
        "plt.plot(x, y2, label='cos(x)', color='red', linestyle='--')\n",
        "plt.plot(x, y3, label='sin(x) * cos(x)', color='green', linestyle=':')\n",
        "\n",
        "plt.xlabel('X-axis')\n",
        "plt.ylabel('Y-axis')\n",
        "plt.title('Multiple Lines on a Matplotlib Plot')\n",
        "plt.legend()\n",
        "plt.show()"
      ],
      "metadata": {
        "id": "VLtNMKKVYHkB"
      },
      "execution_count": null,
      "outputs": []
    },
    {
      "cell_type": "markdown",
      "source": [
        "q.no.9) A Generate a Pandas DataFrame and filter rows where a column value is greater than a\n"
      ],
      "metadata": {
        "id": "CixxiZueQ43Z"
      }
    },
    {
      "cell_type": "code",
      "source": [
        "import pandas as pd\n",
        "\n",
        "data = {\n",
        "    'product': ['Apple', 'Banana', 'Cherry', 'Date', 'Elderberry'],\n",
        "    'price': [1.20, 0.50, 2.50, 3.10, 1.80],\n",
        "    'stock': [150, 300, 75, 120, 200]\n",
        "}\n",
        "df = pd.DataFrame(data)\n",
        "print(\"Original DataFrame:\")\n",
        "print(df)\n",
        "print(\"-\" * 30)\n",
        "\n",
        "filtered_df = df[df['stock'] > 100]\n",
        "\n",
        "print(\"Filtered DataFrame (stock > 100):\")\n",
        "print(filtered_df)"
      ],
      "metadata": {
        "id": "67Nwe2kSXfl6"
      },
      "execution_count": null,
      "outputs": []
    },
    {
      "cell_type": "markdown",
      "source": [
        "q.no.10) A import pandas as pd\n",
        "\n"
      ],
      "metadata": {
        "id": "iTy6G83rRGpJ"
      }
    },
    {
      "cell_type": "code",
      "source": [
        "import pandas as pd\n",
        "import numpy as np\n",
        "import seaborn as sns\n",
        "import matplotlib.pyplot as plt\n",
        "\n",
        "data = np.random.randn(1000)\n",
        "df = pd.DataFrame({'value': data})\n",
        "\n",
        "sns.histplot(data=df, x='value', kde=True, bins=30)\n",
        "\n",
        "plt.title('Histogram of a Normal Distribution')\n",
        "plt.xlabel('Value')\n",
        "plt.ylabel('Frequency')\n",
        "\n",
        "plt.show()"
      ],
      "metadata": {
        "id": "c_RykEzkWomC"
      },
      "execution_count": null,
      "outputs": []
    },
    {
      "cell_type": "markdown",
      "source": [
        "\n",
        "o.no.11) Perform matrix multiplication using NumPy\n"
      ],
      "metadata": {
        "id": "JTMITayDRP3X"
      }
    },
    {
      "cell_type": "code",
      "source": [
        "import numpy as np\n",
        "\n",
        "A = np.array([[1, 2, 3],\n",
        "              [4, 5, 6]])\n",
        "\n",
        "B = np.array([[7, 8],\n",
        "              [9, 10],\n",
        "              [11, 12]])\n",
        "C1 = A @ B\n",
        "print(\"Result using the @ operator:\")\n",
        "print(C1)\n",
        "print(\"-\" * 20)\n",
        "\n",
        "C2 = np.dot(A, B)\n",
        "print(\"Result using np.dot():\")\n",
        "print(C2)\n",
        "print(\"-\" * 20)\n",
        "\n",
        "C3 = np.matmul(A, B)\n",
        "print(\"Result using np.matmul():\")\n",
        "print(C3)\n",
        "print(\"\\nAre all results equal?\", np.array_equal(C1, C2) and np.array_equal(C2, C3))"
      ],
      "metadata": {
        "colab": {
          "base_uri": "https://localhost:8080/"
        },
        "id": "w02lTdupTj3A",
        "outputId": "b14ddbdf-7828-44fd-e3fb-71316ecf2d62"
      },
      "execution_count": null,
      "outputs": [
        {
          "output_type": "stream",
          "name": "stdout",
          "text": [
            "Result using the @ operator:\n",
            "[[ 58  64]\n",
            " [139 154]]\n",
            "--------------------\n",
            "Result using np.dot():\n",
            "[[ 58  64]\n",
            " [139 154]]\n",
            "--------------------\n",
            "Result using np.matmul():\n",
            "[[ 58  64]\n",
            " [139 154]]\n",
            "\n",
            "Are all results equal? True\n"
          ]
        }
      ]
    },
    {
      "cell_type": "markdown",
      "source": [
        "\n",
        "q.no.12) Use Pandas to load a CSV file and display its first 5 rowsA\n"
      ],
      "metadata": {
        "id": "Avv3Y9ruRWdY"
      }
    },
    {
      "cell_type": "code",
      "source": [
        "import pandas as pd\n",
        "df = pd.read_csv('data.csv')\n",
        "print(df.head())"
      ],
      "metadata": {
        "id": "AIWsU8lsSdqa"
      },
      "execution_count": null,
      "outputs": []
    },
    {
      "cell_type": "markdown",
      "source": [
        "q.no.13) A Create a 3D scatter plot using Plotly"
      ],
      "metadata": {
        "id": "K3xN5gyZRgXR"
      }
    },
    {
      "cell_type": "code",
      "source": [
        "import plotly.express as px\n",
        "import pandas as pd\n",
        "import numpy as np\n",
        "\n",
        "np.random.seed(42)\n",
        "df = pd.DataFrame({\n",
        "    'x': np.random.rand(50),\n",
        "    'y': np.random.rand(50),\n",
        "    'z': np.random.rand(50),\n",
        "    'category': np.random.choice(['A', 'B', 'C'], 50)\n",
        "})\n",
        "\n",
        "fig = px.scatter_3d(\n",
        "    df,\n",
        "    x='x',\n",
        "    y='y',\n",
        "    z='z',\n",
        "    color='category',\n",
        "    title='3D Scatter Plot Example'\n",
        ")\n",
        "\n",
        "fig.show()\n",
        "fig_direct = px.scatter_3d(\n",
        "    x=np.random.rand(50),\n",
        "    y=np.random.rand(50),\n",
        "    z=np.random.rand(50),\n",
        "    color=np.random.choice(['Group 1', 'Group 2'], 50),\n",
        "    title='3D Scatter Plot from Arrays'\n",
        ")\n",
        "\n",
        "fig_direct.show()"
      ],
      "metadata": {
        "id": "8vpsg7mTSSX0"
      },
      "execution_count": null,
      "outputs": []
    }
  ]
}